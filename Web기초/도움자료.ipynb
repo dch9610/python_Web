{
 "cells": [
  {
   "cell_type": "markdown",
   "source": [
    "1. [입문자에게 추천하는 HTML, CSS 첫걸음](https://heropy.blog/2019/04/24/html-css-starter/)\n",
    "2. [한눈에 보는 HTML 요소(Elements & Attributes) 총정리](https://heropy.blog/2019/05/26/html-elements/)\n",
    "3. [CSS Flex(Flexible Box) 완벽 가이드](https://heropy.blog/2018/11/24/css-flexible-box/)\n",
    "4. [CSS Grid 완벽 가이드](https://heropy.blog/2019/08/17/css-grid/)\n",
    "5. [Sass(SCSS) 완전 정복!](https://heropy.blog/2018/01/31/sass/)"
   ],
   "metadata": {}
  },
  {
   "cell_type": "markdown",
   "source": [
    "---"
   ],
   "metadata": {}
  },
  {
   "cell_type": "markdown",
   "source": [
    "1. [HTML 폰트 또는 웹 폰트 간단히 적용해 보기](https://androidtest.tistory.com/74)\n",
    "2. [폰트 파일을 이용해 나눔고딕 적용하는 방법](https://ishappy.tistory.com/entry/%ED%8F%B0%ED%8A%B8-%ED%8C%8C%EC%9D%BC%EC%9D%84-%EC%9D%B4%EC%9A%A9%ED%95%B4-%EB%82%98%EB%88%94%EA%B3%A0%EB%94%95-%EC%A0%81%EC%9A%A9%ED%95%98%EB%8A%94-%EB%B0%A9%EB%B2%95)"
   ],
   "metadata": {}
  },
  {
   "cell_type": "markdown",
   "source": [
    "---"
   ],
   "metadata": {}
  },
  {
   "cell_type": "markdown",
   "source": [
    "### Template\r\n",
    "1. [HTML5 UP](https://html5up.net/)\r\n",
    "2. [themewa](https://themewagon.com/theme-price/free)"
   ],
   "metadata": {}
  }
 ],
 "metadata": {
  "interpreter": {
   "hash": "6d46af94c2bbce495f1e668725902fa517c90b1782bcfe2fce0dd9868df553d3"
  },
  "kernelspec": {
   "name": "python3",
   "display_name": "Python 3.8.8 64-bit ('base': conda)"
  },
  "language_info": {
   "codemirror_mode": {
    "name": "ipython",
    "version": 3
   },
   "file_extension": ".py",
   "mimetype": "text/x-python",
   "name": "python",
   "nbconvert_exporter": "python",
   "pygments_lexer": "ipython3",
   "version": "3.8.8"
  }
 },
 "nbformat": 4,
 "nbformat_minor": 4
}